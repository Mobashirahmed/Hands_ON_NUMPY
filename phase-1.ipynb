{
 "cells": [
  {
   "cell_type": "markdown",
   "id": "92bb8f3f",
   "metadata": {},
   "source": [
    "## NUMPY array and Basics\n",
    "learn about numpy with FAMILY and friends"
   ]
  },
  {
   "cell_type": "code",
   "execution_count": 6,
   "id": "811fba2f",
   "metadata": {},
   "outputs": [],
   "source": [
    "import numpy as np"
   ]
  },
  {
   "cell_type": "markdown",
   "id": "1248d564",
   "metadata": {},
   "source": [
    "# creating array from list"
   ]
  },
  {
   "cell_type": "code",
   "execution_count": 7,
   "id": "d07b1a27",
   "metadata": {},
   "outputs": [
    {
     "name": "stdout",
     "output_type": "stream",
     "text": [
      "1D Array:  [1 2 3 4]\n",
      "2D Array: [[5 6 8]\n",
      " [0 9 7]]\n"
     ]
    }
   ],
   "source": [
    "arr_1d = np.array([1, 2, 3, 4])\n",
    "print(\"1D Array: \", arr_1d)\n",
    "\n",
    "arr_2d = np.array([[5, 6, 8],\n",
    "                   [0, 9, 7]])\n",
    "print(\"2D Array:\", arr_2d)"
   ]
  },
  {
   "cell_type": "markdown",
   "id": "cd12648d",
   "metadata": {},
   "source": [
    "### List v/s Numpy Array"
   ]
  },
  {
   "cell_type": "code",
   "execution_count": null,
   "id": "2b14d876",
   "metadata": {},
   "outputs": [
    {
     "name": "stdout",
     "output_type": "stream",
     "text": [
      "Python List multiplication:  [1, 2, 3, 1, 2, 3]\n",
      "Python array multiplication:  [12 14 16]\n"
     ]
    }
   ],
   "source": [
    "py_list = [1, 2, 3]\n",
    "print(\"Python List multiplication: \", py_list * 2)\n",
    "\n",
    "# element wise multiplication\n",
    "np_array = np.array([6, 7, 8])\n",
    "print(\"Python array multiplication: \", np_array * 2)"
   ]
  },
  {
   "cell_type": "code",
   "execution_count": null,
   "id": "69b6ffb8",
   "metadata": {},
   "outputs": [
    {
     "name": "stdout",
     "output_type": "stream",
     "text": [
      "\n",
      " List Operation time:  0.10515785217285156\n",
      "\n",
      " Numpy Operation time:  0.002513408660888672\n"
     ]
    }
   ],
   "source": [
    "import time\n",
    "start = time.time() # the 'time.time()' method gives you exact time\n",
    "py_list = [i*2 for i in range(1000000)] # for loop inside LIST\n",
    "print(\"\\n List Operation time: \", time.time() - start)\n",
    "\n",
    "start = time.time()\n",
    "np_array = np.arange(1000000)\n",
    "print(\"\\n Numpy Operation time: \", time.time() - start)"
   ]
  },
  {
   "cell_type": "markdown",
   "id": "cc73b0ed",
   "metadata": {},
   "source": [
    "### creating arrays from SCRATCH"
   ]
  },
  {
   "cell_type": "code",
   "execution_count": 10,
   "id": "4556cd5f",
   "metadata": {},
   "outputs": [
    {
     "name": "stdout",
     "output_type": "stream",
     "text": [
      "zeros array: \n",
      " [[0. 0. 0. 0.]\n",
      " [0. 0. 0. 0.]\n",
      " [0. 0. 0. 0.]]\n",
      "ones array: \n",
      " [[1. 1. 1.]\n",
      " [1. 1. 1.]]\n"
     ]
    }
   ],
   "source": [
    "zeros = np.zeros((3, 4))\n",
    "print(\"zeros array: \\n\", zeros)\n",
    "\n",
    "ones = np.ones((2, 3))\n",
    "print(\"ones array: \\n\", ones)"
   ]
  },
  {
   "cell_type": "code",
   "execution_count": 15,
   "id": "25850acb",
   "metadata": {},
   "outputs": [
    {
     "name": "stdout",
     "output_type": "stream",
     "text": [
      "full array: \n",
      " [[6 6 6 6 6 6 6 6]\n",
      " [6 6 6 6 6 6 6 6]\n",
      " [6 6 6 6 6 6 6 6]\n",
      " [6 6 6 6 6 6 6 6]\n",
      " [6 6 6 6 6 6 6 6]\n",
      " [6 6 6 6 6 6 6 6]\n",
      " [6 6 6 6 6 6 6 6]]\n"
     ]
    }
   ],
   "source": [
    "full = np.full((7, 8), 6)\n",
    "print(\"full array: \\n\", full)"
   ]
  },
  {
   "cell_type": "code",
   "execution_count": 18,
   "id": "848c0505",
   "metadata": {},
   "outputs": [
    {
     "name": "stdout",
     "output_type": "stream",
     "text": [
      "random array: \n",
      " [[0.74420262 0.58691253 0.91798835]\n",
      " [0.99389429 0.77740362 0.68583647]]\n",
      "sequence array: \n",
      " [0 2 4 6 8]\n"
     ]
    }
   ],
   "source": [
    "random = np.random.random((2, 3))\n",
    "print(\"random array: \\n\", random)\n",
    "\n",
    "# In python range is always outter exclusive boundary\n",
    "sequence = np.arange(0, 10, 2)\n",
    "print(\"sequence array: \\n\", sequence) "
   ]
  },
  {
   "cell_type": "markdown",
   "id": "ec4ff08a",
   "metadata": {},
   "source": [
    "### Vector, Matrices, Tensor"
   ]
  },
  {
   "cell_type": "code",
   "execution_count": 26,
   "id": "3b3dfc7e",
   "metadata": {},
   "outputs": [
    {
     "name": "stdout",
     "output_type": "stream",
     "text": [
      "Vector: \n",
      " [2 3 5]\n",
      "Matrix: \n",
      " [[1 2 3]\n",
      " [4 5 6]\n",
      " [7 8 9]]\n"
     ]
    }
   ],
   "source": [
    "vector = np.array([2, 3, 5])\n",
    "print(\"Vector: \\n\", vector)\n",
    "\n",
    "matrices = np.array([[1, 2, 3],\n",
    "                     [4, 5, 6],\n",
    "                     [7, 8, 9]])\n",
    "print(\"Matrix: \\n\", matrices)"
   ]
  },
  {
   "cell_type": "code",
   "execution_count": 24,
   "id": "5beb61ce",
   "metadata": {},
   "outputs": [
    {
     "name": "stdout",
     "output_type": "stream",
     "text": [
      "TENSOR: \n",
      " [[[1 2]\n",
      "  [3 4]]\n",
      "\n",
      " [[5 6]\n",
      "  [7 8]]]\n"
     ]
    }
   ],
   "source": [
    "# Numpy k tensor mein multi dimensional array hote hain\n",
    "tensor = np.array([[[1, 2], [3, 4]],\n",
    "                  [[5, 6],[7, 8]]])\n",
    "print(\"TENSOR: \\n\", tensor)"
   ]
  },
  {
   "cell_type": "markdown",
   "id": "2bb7ed71",
   "metadata": {},
   "source": [
    "### Array properties"
   ]
  },
  {
   "cell_type": "code",
   "execution_count": 32,
   "id": "d0f0cb80",
   "metadata": {},
   "outputs": [
    {
     "name": "stdout",
     "output_type": "stream",
     "text": [
      "Shape  (2, 3)\n",
      "Dimensions  2\n",
      "Size 6\n",
      "DType  int64\n"
     ]
    }
   ],
   "source": [
    "arr = np.array([[1, 2 ,3],\n",
    "               [4, 5, 6]])\n",
    "print(\"Shape \", arr.shape)\n",
    "print(\"Dimensions \", arr.ndim)\n",
    "print(\"Size\", arr.size)\n",
    "print(\"DType \", arr.dtype)"
   ]
  },
  {
   "cell_type": "markdown",
   "id": "451d3248",
   "metadata": {},
   "source": [
    "### ARRAY Reshaping"
   ]
  },
  {
   "cell_type": "code",
   "execution_count": 38,
   "id": "ec48e50b",
   "metadata": {},
   "outputs": [
    {
     "name": "stdout",
     "output_type": "stream",
     "text": [
      "Original array:  [ 0  1  2  3  4  5  6  7  8  9 10 11]\n",
      "\n",
      " Reshaped array: \n",
      "  [[ 0  1  2  3]\n",
      " [ 4  5  6  7]\n",
      " [ 8  9 10 11]]\n",
      "\n",
      " Flattend array:  [ 0  1  2  3  4  5  6  7  8  9 10 11]\n",
      "\n",
      " raveled array:  [ 0  1  2  3  4  5  6  7  8  9 10 11]\n",
      "\n",
      " Transposed array: \n",
      "  [[ 0  4  8]\n",
      " [ 1  5  9]\n",
      " [ 2  6 10]\n",
      " [ 3  7 11]]\n"
     ]
    }
   ],
   "source": [
    "arr = np.arange(12)\n",
    "print(\"Original array: \", arr)\n",
    "\n",
    "reshaped = arr.reshape((3, 4))\n",
    "print(\"\\n Reshaped array: \\n \", reshaped)\n",
    "\n",
    "flattend = reshaped.flatten()\n",
    "print(\"\\n Flattend array: \", flattend)\n",
    "\n",
    "# ravel (returns view, instead of copy)\n",
    "raveled = reshaped.ravel()\n",
    "print(\"\\n raveled array: \", raveled)\n",
    "\n",
    "# Transpose\n",
    "transpose = reshaped.T\n",
    "print(\"\\n Transposed array: \\n \", transpose)"
   ]
  }
 ],
 "metadata": {
  "kernelspec": {
   "display_name": "Python 3",
   "language": "python",
   "name": "python3"
  },
  "language_info": {
   "codemirror_mode": {
    "name": "ipython",
    "version": 3
   },
   "file_extension": ".py",
   "mimetype": "text/x-python",
   "name": "python",
   "nbconvert_exporter": "python",
   "pygments_lexer": "ipython3",
   "version": "3.13.1"
  }
 },
 "nbformat": 4,
 "nbformat_minor": 5
}
